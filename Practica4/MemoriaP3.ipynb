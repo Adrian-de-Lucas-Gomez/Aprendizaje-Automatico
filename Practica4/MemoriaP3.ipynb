{
 "cells": [
  {
   "cell_type": "markdown",
   "metadata": {},
   "source": [
    "# Práctica 4: Entrenamiento de redes neuronales"
   ]
  },
  {
   "cell_type": "markdown",
   "metadata": {},
   "source": [
    "Alumnos: Andrés Ruiz Bartolomé y Adrián de Lucas Gómez  "
   ]
  },
  {
   "cell_type": "code",
   "execution_count": 5,
   "metadata": {},
   "outputs": [],
   "source": [
    "import numpy as np\n",
    "import matplotlib.pyplot as plt\n",
    "from scipy.io import loadmat\n",
    "import scipy.optimize as minimize\n",
    "import displayData as disp\n",
    "import checkNNGradients as checkNNG"
   ]
  },
  {
   "cell_type": "markdown",
   "metadata": {},
   "source": [
    "# Parte 1: Función de coste\n",
    "\n",
    "En esta primera parte deberemos de implementar las funciones de coste y aplicarlas sobre los datos de 'ex4data1.mat'. Como en la practica anterior estaremos reconociendo numeros manuscritos.\n",
    "\n",
    "En el archivo de 'ex4weights.mat' encontramos los pesos de una red neuronal ya entrenada.\n",
    "\n",
    "Tras ver los valores del coste normal y el regularizado haciendo uso de **checkNNGradients** podemos ver los valores que han dado los gradientes y ver las variaciones que ha habido entre ellos.\n",
    "\n",
    "Por último tendremos que entrenar la red con los métodos de **redNeuronalPaLante** y **redNeuronalPatras** usando la función minimize."
   ]
  },
  {
   "cell_type": "code",
   "execution_count": 11,
   "metadata": {},
   "outputs": [
    {
     "data": {
      "image/png": "[encoded data removed]",
      "text/plain": [
       "<Figure size 432x288 with 1 Axes>"
      ]
     },
     "metadata": {
      "needs_background": "light"
     },
     "output_type": "display_data"
    },
    {
     "name": "stdout",
     "output_type": "stream",
     "text": [
      "Se ha clasificado correctamente el 96.02% de los ejemplos de entrenamiento\n"
     ]
    }
   ],
   "source": [
    "def parte1():\n",
    "    datos = loadmat('ex4data1.mat')\n",
    "    X = datos['X']\n",
    "    y = datos['y']\n",
    "    y = np.ravel(y)\n",
    "\n",
    "    m = len(y)\n",
    "    input_size= np.shape(X)[1]\n",
    "    num_hidden = 25\n",
    "    num_labels = 10\n",
    "\n",
    "    yAux = (y-1)\n",
    "    y_onehot = np.zeros((m, num_labels))\n",
    "    for i in range(m):\n",
    "        y_onehot[i][yAux[i]] = 1\n",
    "\n",
    "    sample = np.random.choice(X.shape[0], 100)\n",
    "    disp.displayData(X[sample])\n",
    "    plt.show()\n",
    "\n",
    "    weights = loadmat('ex4weights.mat')\n",
    "    theta1 = weights['Theta1']\n",
    "    theta2 = weights['Theta2']\n",
    "\n",
    "    print(\"Coste sin haber regularizado: \")\n",
    "    print(str(coste(X, y_onehot, theta1, theta2))[:5])\n",
    "    print(\"Coste regularizando con lambda valor 1: \")\n",
    "    print(str(costeReg(X, y_onehot, theta1, theta2, 1))[:5])\n",
    "    print()     #Salto de linea\n",
    "\n",
    "    lambo = 1\n",
    "    print(\"Comprobacion de las variaciones en el gradiente\")\n",
    "    diff = checkNNG.checkNNGradients(redNeuronalPatras, lambo)\n",
    "    print()     #Salto de linea\n",
    "\n",
    "    print(\"Menor diferencia: \")\n",
    "    print(str(min(diff)))\n",
    "    print(\"Mayor diferencia: \")\n",
    "    print(str(max(diff)))\n",
    "    print()     #Salto de linea\n",
    "\n",
    "\n",
    "    #Elejimos valores aleatorios para las thetas\n",
    "    theta1 = randomWeights(input_size, num_hidden)\n",
    "    theta2 = randomWeights(num_hidden, num_labels)\n",
    "    #Los guardamos para probar con ellos\n",
    "    params_rn = np.concatenate((np.ravel(theta1), np.ravel(theta2)))\n",
    "    \n",
    "    num_Iterations = 70     #Vueltas dadas para tratar de optimizar\n",
    "    optimizeResult = minimize.minimize(fun=redNeuronalPatras, x0=params_rn, args=(input_size, num_hidden, num_labels, X, y_onehot, lambo), method='TNC', jac=True, options={'maxiter': num_Iterations})\n",
    "    evaluations = precisionChecker(optimizeResult, input_size, num_hidden, num_labels, X, y)\n",
    "\n",
    "    print(\"Precision de la red tras ser entrenada:\")\n",
    "    print(str(evaluations*100)[:5] + \"%\")\n",
    "\n",
    "parte1()"
   ]
  },
  {
   "cell_type": "markdown",
   "metadata": {},
   "source": [
    "Para el calculo del coste primero habrá que sacar la **H** con el método de la red neuronal y con ello hacemos el calculo.\n",
    "Por su parte el coste regularizado lo que hace es sobre el coste normal añadimos el valor regularizador **lambo** junto a otros parámetros en el CosteR"
   ]
  },
  {
   "cell_type": "code",
   "execution_count": 7,
   "metadata": {},
   "outputs": [],
   "source": [
    "\n",
    "def coste(X, Y, theta1, theta2):\n",
    "\n",
    "\ta1, a2, H = redNeuronalPaLante(X, theta1,theta2) #Haces la pasada por la red neuronal\n",
    "\n",
    "    #Queda mas claro dividido por partes\n",
    "\top1= -1/(len(X))\n",
    "\top2 = Y * np.log(H)\n",
    "\top3 = (1-Y) * np.log(1-H)\n",
    "\n",
    "\tcost = op1 * np.sum(op2 + op3)\n",
    "\treturn cost\n",
    "\n",
    "def costeReg(X, Y, theta1, theta2, lambo):\n",
    "    costeN = coste(X, Y, theta1, theta2)\n",
    "    costeR = costeN + (lambo/(2*len(X)) * (np.sum(np.square(theta1[:,1:])) + np.sum(np.square(theta2[:,1:]))))\n",
    "    return costeR"
   ]
  },
  {
   "cell_type": "markdown",
   "metadata": {},
   "source": [
    "Para el cálculo del coste tendremos que hacer uso de las funciones **sigmoide** y **redNeuronalPaLante**.\n",
    "En la pasada a la red neuronal tenemos que calcular la capa oculta y ver el resultado que da de salida y metiendo el resultado en la funcion sigmoide dando **a3**."
   ]
  },
  {
   "cell_type": "code",
   "execution_count": 9,
   "metadata": {},
   "outputs": [],
   "source": [
    "def redNeuronalPaLante(X, theta1, theta2):\n",
    "    \n",
    "    xSize = X.shape[0]\n",
    "    # Capa de entrada\n",
    "    a1 = np.hstack([np.ones((xSize,1)), X])    \n",
    "    # Capa oculta    \n",
    "    z2 = theta1.dot(a1.T)\n",
    "    a2 = np.hstack([np.ones((xSize,1)),sigmoide(z2.T)])\n",
    "    # Capa de salida\n",
    "    z3 = np.dot(a2, theta2.T) \n",
    "    a3 = sigmoide(z3) #Es la hipotesis\n",
    "\n",
    "    return (a1, a2, a3)\n",
    "\n",
    "def sigmoide(x):\n",
    "    s = 1 / (1 + np.exp(-x))\n",
    "    return s"
   ]
  },
  {
   "cell_type": "markdown",
   "metadata": {},
   "source": [
    "# Parte 2: Calculo del gradiente\n",
    "\n",
    "Para hacer el descenso de gradiente con redes neuronales que entrenamos nosotros tendremos que recorrer la red neuronal en sentido contrario con el objetivo de ver cuales son los nodos que tienen un peor coste para tratar de reducir ese error."
   ]
  },
  {
   "cell_type": "code",
   "execution_count": 12,
   "metadata": {},
   "outputs": [],
   "source": [
    "def redNeuronalPatras(params_rn, n_input, n_hidden, n_labels, X, y, lambdita):\n",
    "    theta1 = np.reshape(params_rn[:n_hidden * (n_input+1)], (n_hidden, (n_input+1)))\n",
    "    theta2 = np.reshape(params_rn[n_hidden * (n_input+1):], (n_labels, (n_hidden+1)))\n",
    "    \n",
    "    m = len(X)\n",
    "    A1, A2, H = redNeuronalPaLante(X, theta1, theta2)\n",
    "\n",
    "    Delta1 = np.zeros_like(theta1)\n",
    "    Delta2 = np.zeros_like(theta2)\n",
    "\n",
    "    for t in range(m):\n",
    "        a1t = A1[t, :]\n",
    "        a2t = A2[t, :]\n",
    "        ht = H[t, :]\n",
    "        yt = y[t]\n",
    "\n",
    "        d3t = ht - yt\n",
    "        d2t = np.dot(theta2.T, d3t) * (a2t * (1 - a2t))\n",
    "\n",
    "        Delta1 = Delta1 + np.dot(d2t[1:, np.newaxis], a1t[np.newaxis, :])\n",
    "        Delta2 = Delta2 + np.dot(d3t[:, np.newaxis], a2t[np.newaxis, :])\n",
    "\n",
    "    \n",
    "    #Gradientes\n",
    "    G1= Delta1 / m\n",
    "    G2 = Delta2 / m\n",
    "\n",
    "    #Lambdas\n",
    "    lambo1 = lambdita * theta1 / m\n",
    "    lambo2 = lambdita * theta2 / m\n",
    "\n",
    "    lambo1[:, 0] = 0\n",
    "    lambo2[:, 0] = 0\n",
    "\n",
    "    G1 += lambo1\n",
    "    G2 += lambo2\n",
    "\n",
    "    gradiente = np.concatenate((np.ravel(G1), np.ravel(G2)))\n",
    "\n",
    "    #Coste\n",
    "    coste = costeReg(X, y, theta1, theta2, lambdita)\n",
    "\n",
    "    return coste, gradiente"
   ]
  },
  {
   "cell_type": "markdown",
   "metadata": {},
   "source": [
    "Función que usamos para inicializar de forma aleatoria los valores de theta"
   ]
  },
  {
   "cell_type": "code",
   "execution_count": 13,
   "metadata": {},
   "outputs": [],
   "source": [
    "def randomWeights(L_ini, L_out):\n",
    "    E_ini = 0.12\n",
    "    return np.random.random((L_out, L_ini + 1)) * (2*E_ini) - E_ini"
   ]
  },
  {
   "cell_type": "markdown",
   "metadata": {},
   "source": [
    "Este método se encarga de utilizar la red neuronal ya entrenada para ver como de efectiva es clasificando ejemplos. Suele rondar un 93% +- 2& segun como hayan venido los theta inicializados."
   ]
  },
  {
   "cell_type": "code",
   "execution_count": 14,
   "metadata": {},
   "outputs": [
    {
     "name": "stdout",
     "output_type": "stream",
     "text": [
      "La red neuronal clasifica correctamente el 97.52% de los casos.\n"
     ]
    }
   ],
   "source": [
    "def precisionChecker(resOpt, n_input, n_hidden, n_labels, X, y):\n",
    "    theta1 = np.reshape(resOpt.x[:n_hidden * (n_input + 1)] , (n_hidden, (n_input+1)))\n",
    "    theta2 = np.reshape(resOpt.x[n_hidden * (n_input + 1):] , (n_labels, (n_hidden+1)))\n",
    "\n",
    "    A1, A2, H = redNeuronalPaLante(X, theta1, theta2)\n",
    "\n",
    "    aux = np.argmax(H, axis=1)\n",
    "    aux += 1\n",
    "    #calculamos cuantos se han identificado correctamente y lo dividimos por los casos de prueba\n",
    "    return np.sum(aux == y) / np.shape(H)[0]"
   ]
  }
 ],
 "metadata": {
  "interpreter": {
   "hash": "8c470b164e063736c69efb3b3658dd98a82ef947045411bc63cedc68b64d1003"
  },
  "kernelspec": {
   "display_name": "Python 3.8.5 32-bit",
   "name": "python3"
  },
  "language_info": {
   "codemirror_mode": {
    "name": "ipython",
    "version": 3
   },
   "file_extension": ".py",
   "mimetype": "text/x-python",
   "name": "python",
   "nbconvert_exporter": "python",
   "pygments_lexer": "ipython3",
   "version": "3.8.5"
  },
  "orig_nbformat": 4
 },
 "nbformat": 4,
 "nbformat_minor": 2
}
