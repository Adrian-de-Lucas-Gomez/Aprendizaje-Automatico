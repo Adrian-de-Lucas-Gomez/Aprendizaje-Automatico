{
 "cells": [
  {
   "cell_type": "markdown",
   "metadata": {},
   "source": [
    "# Práctica 3: Regresión logística multi-clase y redes neuronales"
   ]
  },
  {
   "cell_type": "markdown",
   "metadata": {},
   "source": [
    "Alumnos: Andrés Ruiz Bartolomé y Adrián de Lucas Gómez  "
   ]
  },
  {
   "cell_type": "code",
   "execution_count": 5,
   "metadata": {},
   "outputs": [],
   "source": [
    "import numpy as np\n",
    "from matplotlib import pyplot as plt\n",
    "import scipy.optimize as opt\n",
    "from scipy.io import loadmat"
   ]
  },
  {
   "cell_type": "markdown",
   "metadata": {},
   "source": [
    "# Parte 1: Regresión logística multi-clase\n",
    "\n",
    "Es esta primera parte trataremos de reconocer numeros escritos a mano usando la regresion logística pero esta vez multiclase. Esto se debe a que el resultado no es binario y se pueden dar mas resultados posibles.\n",
    "Para empezar traeremos de fichero los datos y mostraremos en pantalla una secuencia aleatoria de numeros sacados de la imagen de muestra. "
   ]
  },
  {
   "cell_type": "code",
   "execution_count": 11,
   "metadata": {},
   "outputs": [
    {
     "data": {
      "image/png": "[encoded data removed]",
      "text/plain": [
       "<Figure size 432x288 with 1 Axes>"
      ]
     },
     "metadata": {
      "needs_background": "light"
     },
     "output_type": "display_data"
    },
    {
     "name": "stdout",
     "output_type": "stream",
     "text": [
      "Se ha clasificado correctamente el 96.02% de los ejemplos de entrenamiento\n"
     ]
    }
   ],
   "source": [
    "def Parte1():\n",
    "    data= loadmat('ex3data1.mat')\n",
    "\n",
    "    y= data['y']\n",
    "    X = data['X']\n",
    "\n",
    "    sample = np.random.choice(X.shape[0], 10)\n",
    "    plt.imshow(X[sample, :].reshape(-1, 20).T)\n",
    "    \n",
    "    Theta = oneVsAll(X, y, 10, 0.1)\n",
    "    XStacked = np.hstack([np.ones((len(y), 1)),X])\n",
    "    plt.show()\n",
    "\n",
    "    print('Se ha clasificado correctamente el ', end='')\n",
    "    print(\"%.2f\" %(precision(XStacked, y.ravel(), Theta)*100), end='')\n",
    "    print('% de los ejemplos de entrenamiento')\n",
    "\n",
    "    \n",
    "\n",
    "Parte1()"
   ]
  },
  {
   "cell_type": "markdown",
   "metadata": {},
   "source": [
    "Para calcular el reconocimiento de los dígitos implementaremos la funcion **OneVsAll** la cual entrena y devuelve los mejores valores de Theta para cada etiqueta (para reconocer cada número).\n",
    "\n",
    "Cuando la función ya está entrenada podemos medir el grado de precisión que tiene haciendo que evalue casos de prueba que le damos en la función **prescision**"
   ]
  },
  {
   "cell_type": "code",
   "execution_count": 7,
   "metadata": {},
   "outputs": [],
   "source": [
    "def oneVsAll(X, y, num_etiquetas, reg):\n",
    "    \n",
    "    X_stacked = np.hstack([np.ones((len(y),1)), X])\n",
    "\n",
    "    ret = np.zeros([num_etiquetas, len(X_stacked[0])])\n",
    "\n",
    "    for etiqueta in range(num_etiquetas):\n",
    "        labels = ((y== etiqueta + 1 )* 1 ).ravel()#conseguimos un array de booleanos en la etiqueta que nos iteresa y luego los convertimos a unos \n",
    "        ret[etiqueta] = opt.fmin_tnc(func = costeRegularizado, x0 = ret[etiqueta], \n",
    "        fprime=gradienteRegularizado,args=(X_stacked,labels,reg))[0]\n",
    "    \n",
    "    return ret\n",
    "\n",
    "def precision(X, Y, Theta):\n",
    "    n = len(Y)\n",
    "    predicciones = np.empty(n)\n",
    "    for i in range(n):\n",
    "        predicciones[i] = (np.argmax(sigmoide(np.dot(X[i], Theta.T)))+1)\n",
    "    return np.mean(Y == predicciones)\n"
   ]
  },
  {
   "cell_type": "markdown",
   "metadata": {},
   "source": [
    "Para el calculo de los valores de theta usaremos de nuevo la funcion **opt.fmin_tnc** usando el gradienteRegularizado y el costeRegularizado. La mayoria de funciones son iguales a la version de regresión logística de la Practica2. Ahora en el **coste** para evitar hacer un logaritmo de 0 añadimos un 1e-6 para asi evitar errores."
   ]
  },
  {
   "cell_type": "code",
   "execution_count": 9,
   "metadata": {},
   "outputs": [],
   "source": [
    "def sigmoide(x):\n",
    "    ## cuidado con x > 50 devuelve 1\n",
    "    ##\n",
    "    s = 1 / (1 + np.exp(-x))\n",
    "    return s\n",
    "\n",
    "#---------------------------------------------------------------------------------------------------\n",
    "\n",
    "def coste(theta, X, Y):\n",
    "\n",
    "\tH = sigmoide(np.matmul(X, theta))\n",
    "\n",
    "\tcost = (-1/(len(X))) * (np.dot(np.log(H), Y) +\n",
    "\t\t\t\t\t\t\tnp.dot(np.log(1 - H + 1e-6), (1 - Y)))\n",
    "\n",
    "\treturn cost\n",
    "\n",
    "\n",
    "def costeRegularizado(theta, X, Y, lambo):\n",
    "\tm = np.shape(X)[0]\n",
    "\treturn coste(theta, X, Y ) + lambo * np.sum(theta**2)/(2*m)\n",
    "\n",
    "\n",
    "def gradiente(theta, x, y):\n",
    "    H = sigmoide(np.dot(x, theta))\n",
    "    return np.dot((H - y), x) / len(y)\n",
    "\n",
    "\n",
    "def gradienteRegularizado(theta,X, Y, lambo):\n",
    "\tgrad = (gradiente(theta,X, Y))\n",
    "\ta = grad[0]\n",
    "\treg = lambo*theta / len(Y)\n",
    "\treg[0] = a\n",
    "\treturn grad + reg \n",
    "\n",
    "#---------------------------------------------------------------------------------------------------\n"
   ]
  },
  {
   "cell_type": "markdown",
   "metadata": {},
   "source": [
    "# Parte 2: Redes neuronales\n",
    "\n",
    "En esta parte usamos los pesos de una red neuronal ya entrenada, con el objetivo de evaluar su precisión. Para ello calculamos primero la activación de la capa oculta multiplicando el resultado de la capa anterior (en este caso XT al ser la capa de entrada) por los pesos de la capa actual, luego se le añade el término independiente y se continúa la propagación hacia delante. Al llegar a la última capa (la de salida) el resultado son valores entre 0 y 1 con la confianza de que ese ejemplo concreto corresponde a esa clase particular. El valor más alto significa, por lo tanto, una mayor confianza.\n",
    "Por último realizamos el cálculo de que porcentaje de los casos son predichos adecuadamente."
   ]
  },
  {
   "cell_type": "code",
   "execution_count": 12,
   "metadata": {},
   "outputs": [],
   "source": [
    "def precisionRedNeuronal(Y, finalActv):\n",
    "    n = len(Y)\n",
    "    predicciones = np.empty(n)\n",
    "    for i in range(n):\n",
    "        predicciones[i] = (np.argmax(finalActv[:,i])+1)\n",
    "    return np.mean(Y.ravel() == predicciones)"
   ]
  },
  {
   "cell_type": "code",
   "execution_count": 13,
   "metadata": {},
   "outputs": [],
   "source": [
    "def redNeuronal(X, Y):\n",
    "    pesos = loadmat('ex3weights.mat')\n",
    "    theta1 = pesos ['Theta1']\n",
    "    theta2 = pesos ['Theta2']\n",
    "\n",
    "    hl2 = theta1.dot(X.T)   #Capa oculta\n",
    "    act2 = sigmoide(hl2)    #Activación\n",
    "\n",
    "    act2 = np.vstack([np.ones((len(act2[0]))), act2])\n",
    "\n",
    "    ol = theta2.dot(act2)   #Capa de salida\n",
    "    act3 = sigmoide(ol)\n",
    "    \n",
    "    print(\"La red neuronal clasifica correctamente el \", end='')\n",
    "    print(precisionRedNeuronal(Y, act3) * 100, end='')\n",
    "    print(\"% de los casos.\")"
   ]
  },
  {
   "cell_type": "code",
   "execution_count": 14,
   "metadata": {},
   "outputs": [
    {
     "name": "stdout",
     "output_type": "stream",
     "text": [
      "La red neuronal clasifica correctamente el 97.52% de los casos.\n"
     ]
    }
   ],
   "source": [
    "def Parte2():\n",
    "    data= loadmat('ex3data1.mat')\n",
    "\n",
    "    y= data['y']\n",
    "    X = data['X']\n",
    "    \n",
    "    XStacked = np.hstack([np.ones((len(y), 1)),X])\n",
    "    \n",
    "    redNeuronal(XStacked, y)\n",
    "\n",
    "Parte2()"
   ]
  }
 ],
 "metadata": {
  "interpreter": {
   "hash": "8c470b164e063736c69efb3b3658dd98a82ef947045411bc63cedc68b64d1003"
  },
  "kernelspec": {
   "display_name": "Python 3.8.5 32-bit",
   "name": "python3"
  },
  "language_info": {
   "codemirror_mode": {
    "name": "ipython",
    "version": 3
   },
   "file_extension": ".py",
   "mimetype": "text/x-python",
   "name": "python",
   "nbconvert_exporter": "python",
   "pygments_lexer": "ipython3",
   "version": "3.8.5"
  },
  "orig_nbformat": 4
 },
 "nbformat": 4,
 "nbformat_minor": 2
}
