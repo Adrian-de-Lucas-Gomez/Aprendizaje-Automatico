{
 "cells": [
  {
   "cell_type": "markdown",
   "metadata": {},
   "source": [
    "# Práctica 5: Regresion lineal regularizada. Sesgo y varianza"
   ]
  },
  {
   "cell_type": "markdown",
   "metadata": {},
   "source": [
    "Alumnos: Andrés Ruiz Bartolomé y Adrián de Lucas Gómez  "
   ]
  },
  {
   "cell_type": "code",
   "execution_count": 16,
   "metadata": {},
   "outputs": [],
   "source": [
    "import numpy as np\n",
    "import matplotlib.pyplot as plt\n",
    "from scipy.io import loadmat\n",
    "from scipy.optimize import minimize"
   ]
  },
  {
   "cell_type": "markdown",
   "metadata": {},
   "source": [
    "# Parte 1: Función de coste\n",
    "\n",
    "En esta primera parte queremos comprobar como afecta a las predicciones el sesgo y la varianza.\n",
    "Para ello haremos regresion lineal usando el **lRate** (un valor de lambda) que mas se ajusta a los ejemplos de entrenamiento y por lo tanto mas sesgado."
   ]
  },
  {
   "cell_type": "code",
   "execution_count": 17,
   "metadata": {},
   "outputs": [],
   "source": [
    "def Hypothesys(X, theta):\n",
    "    return X.dot(theta)\n",
    "\n",
    "\n",
    "def Cost(theta, X, y, lRate):\n",
    "    return ((Hypothesys(X, theta) - y.ravel()).dot(Hypothesys(X, theta) - y.ravel())/(len(y)*2)\n",
    "            + lRate/(2*len(y))*(np.square(theta[1:])).sum())\n",
    "\n",
    "\n",
    "def Gradiente(theta, X, Y, lRate):\n",
    "    stacked = np.hstack(([0], theta[1:]))\n",
    "    op1 = X.T.dot(Hypothesys(X, theta) - Y.ravel())\n",
    "    op2 = len(Y) + lRate * stacked/len(Y)\n",
    "    return (op1 / op2)"
   ]
  },
  {
   "cell_type": "code",
   "execution_count": 18,
   "metadata": {},
   "outputs": [
    {
     "name": "stdout",
     "output_type": "stream",
     "text": [
      "Coste con λ=1 y θ=[1; 1]:  303.9931922202643\n",
      "Gradiente entre  -15.303015674201186  y  594.0421183508228\n"
     ]
    },
    {
     "data": {
      "image/png": "[encoded data removed]",
      "text/plain": [
       "<Figure size 432x288 with 1 Axes>"
      ]
     },
     "metadata": {
      "needs_background": "light"
     },
     "output_type": "display_data"
    }
   ],
   "source": [
    "\n",
    "data = loadmat('ex5data1.mat')\n",
    "# data.keys()\n",
    "X, y = data['X'], data['y']\n",
    "Xval, yval = data['Xval'], data['yval']\n",
    "Xtest, ytest = data['Xtest'], data['ytest']\n",
    "lRate = 1\n",
    "theta = np.array([1, 1]).ravel()\n",
    "Xstacked = np.c_[np.ones((len(X), 1)), X]\n",
    "c = Cost(theta, Xstacked, y, lRate)\n",
    "print(\"Coste con λ=1 y θ=[1; 1]: \", c)\n",
    "g = Gradiente(theta, Xstacked, y, lRate)\n",
    "print(\"Gradiente entre \", min(g), \" y \", max(g))\n",
    "\n",
    "lRate = 0\n",
    "minFun = minimize(fun=Cost, x0=theta, args=(Xstacked, y, lRate))\n",
    "\n",
    "plt.figure()\n",
    "plt.scatter(X, y, marker = '$☺$', c=\"green\", s = 100, linewidths=0.1)\n",
    "lineX = np.linspace(min(X), max(X), 1000)\n",
    "lineY = np.c_[np.ones((1000,1)), lineX].dot(minFun.x)\n",
    "plt.plot(lineX, lineY, '-', c=\"purple\")\n",
    "plt.show()\n"
   ]
  },
  {
   "cell_type": "markdown",
   "metadata": {},
   "source": [
    "# Parte 2: Curvas de aprendizaje\n",
    "\n"
   ]
  },
  {
   "cell_type": "markdown",
   "metadata": {},
   "source": [
    "En esta parte el objetivo es el de ver como va cambiando el valor del coste según se van probando mas casos y vemos la evolucion del error. Para ello usamos el método **CalculaError** y lo aplicaremos sobre el conjunto de entrenamiento  y en el de validación.\n",
    "Se aprecia que como estaba muy sesgada a los datos de entrenamiento cuando calculamos el error con los de validación tenemos un valor muy grande de error con los primeros ejemplos al estar sobreajustado a los otros.\n",
    "\n",
    "Rojo: error con ejemplos de entrenamiento.\n",
    "\n",
    "Verde: error con ejemplos de validacion."
   ]
  },
  {
   "cell_type": "code",
   "execution_count": 19,
   "metadata": {},
   "outputs": [],
   "source": [
    "\n",
    "def CalculaError(theta, X, Y):\n",
    "    op1 = (Hypothesys(X, theta) - Y.ravel())\n",
    "    op2 = op1.dot(Hypothesys(X, theta) - Y.ravel())\n",
    "    return op2 / (len(Y) * 2)\n"
   ]
  },
  {
   "cell_type": "code",
   "execution_count": 20,
   "metadata": {},
   "outputs": [
    {
     "data": {
      "image/png": "[encoded data removed]",
      "text/plain": [
       "<Figure size 432x288 with 1 Axes>"
      ]
     },
     "metadata": {
      "needs_background": "light"
     },
     "output_type": "display_data"
    }
   ],
   "source": [
    " # Parte2\n",
    "\n",
    "data = loadmat('ex5data1.mat')\n",
    "# data.keys()\n",
    "X, y = data['X'], data['y']\n",
    "Xval, yval = data['Xval'], data['yval']\n",
    "Xtest, ytest = data['Xtest'], data['ytest']\n",
    "lRate = 1\n",
    "theta = np.array([1, 1]).ravel()\n",
    "Xstacked = np.c_[np.ones((len(X), 1)), X]\n",
    "\n",
    "m = len(y)\n",
    "errorEntre = np.empty(m)\n",
    "errorValida = np.empty(m)\n",
    "\n",
    "Xvalidar = np.c_[np.ones((len(Xval), 1)), Xval]\n",
    "theta = np.array([1, 1])\n",
    "lRate = 0\n",
    "\n",
    "for i in range(1, m+1):\n",
    "    fmin = minimize(fun=Cost, x0=theta, args=(Xstacked[:i], y[:i], lRate))\n",
    "    errorEntre[i-1] = CalculaError(fmin.x, Xstacked[:i], y[:i])\n",
    "    errorValida[i-1] = CalculaError(fmin.x, Xvalidar, yval)\n",
    "\n",
    "plt.figure()\n",
    "plt.plot(range(1, m+1), errorEntre, c = \"red\")\n",
    "plt.plot(range(1, m+1), errorValida, c = \"green\")\n",
    "plt.show()"
   ]
  },
  {
   "cell_type": "markdown",
   "metadata": {},
   "source": [
    "# Parte 3: Regresion polinomial"
   ]
  },
  {
   "cell_type": "markdown",
   "metadata": {},
   "source": [
    "Ahora el objetivo que tenemos es el de tratar de ajustarnos mas a los valores de la funcion (reduciendo el sobreajuste) por lo que tenemos que utilizar polinomios de mayor grado. Los generaremos con la funcion **genPolynomial**. Tambien deberemos de normalizar los datos para que los cálculos sean mas precisos y lo haremos con la funcion **normalizar** la cual dado una media de los valores y sigma te devuelve los valores ya normalizados."
   ]
  },
  {
   "cell_type": "code",
   "execution_count": 21,
   "metadata": {},
   "outputs": [],
   "source": [
    "\n",
    "def genPolynomial(X, p):\n",
    "    ret = np.empty([np.shape(X)[0], p])\n",
    "    for i in range(p):\n",
    "        ret[:, i] = (X**(i+1)).ravel()\n",
    "    return ret\n",
    "\n",
    "\n",
    "def normalizar(X, media, sigma):\n",
    "    return ((X-media)/sigma)\n"
   ]
  },
  {
   "cell_type": "code",
   "execution_count": 22,
   "metadata": {},
   "outputs": [
    {
     "data": {
      "image/png": "[encoded data removed]",
      "text/plain": [
       "<Figure size 432x288 with 1 Axes>"
      ]
     },
     "metadata": {
      "needs_background": "light"
     },
     "output_type": "display_data"
    }
   ],
   "source": [
    "\n",
    "# PARTE 3\n",
    "data = loadmat('ex5data1.mat')\n",
    "# data.keys()\n",
    "X, y = data['X'], data['y']\n",
    "\n",
    "gradoPolinomio = 8\n",
    "xPolinomial = genPolynomial(X, gradoPolinomio)\n",
    "mediaX = np.mean(xPolinomial, axis=0)\n",
    "sigmaX = np.std(xPolinomial, axis=0)\n",
    "Xnorm = normalizar(xPolinomial, mediaX, sigmaX)\n",
    "Xnorm = np.c_[np.ones((len(Xnorm), 1)), Xnorm]\n",
    "lRate = 0\n",
    "theta = np.zeros(gradoPolinomio + 1)\n",
    "\n",
    "fmin = minimize(fun=Cost, x0=theta, args=(Xnorm, y, lRate))\n",
    "\n",
    "plt.figure()\n",
    "plt.scatter(X, y, marker = '$♥$', c=\"orange\", s = 100, linewidths=0.1)\n",
    "graphX = (np.arange(min(X), max(X), 0.05))\n",
    "auxX = normalizar(genPolynomial(graphX, gradoPolinomio), mediaX, sigmaX)\n",
    "graphY = np.c_[np.ones((len(auxX), 1)), auxX].dot(fmin.x)\n",
    "\n",
    "plt.plot(graphX, graphY, '-', c= \"purple\")\n",
    "plt.show()"
   ]
  },
  {
   "cell_type": "markdown",
   "metadata": {},
   "source": [
    "# Parte 3.1: Curva de aprendizaje usando la curva polinomial"
   ]
  },
  {
   "cell_type": "markdown",
   "metadata": {},
   "source": [
    "Como en el apartado 2 volveremos a ver la evolución de los errores de las predicciones sobre los ejemplos de entrenamiento y de validación.\n",
    "La gráfica muestra los errorres con un **lRate** sobre los conjuntos.\n",
    "\n",
    "Morado: error con ejemplos de entrenamiento con función polinómica.\n",
    "\n",
    "Amarillo: error con ejemplos de validación con función polinómica."
   ]
  },
  {
   "cell_type": "code",
   "execution_count": 23,
   "metadata": {},
   "outputs": [
    {
     "data": {
      "image/png": "[encoded data removed]",
      "text/plain": [
       "<Figure size 432x288 with 1 Axes>"
      ]
     },
     "metadata": {
      "needs_background": "light"
     },
     "output_type": "display_data"
    }
   ],
   "source": [
    "# curva para la hipotesis polinomial\n",
    "\n",
    "m = len(y)\n",
    "errorEntre = np.empty(m)\n",
    "errorValida = np.empty(m)\n",
    "\n",
    "Xvalidar = normalizar(genPolynomial(Xval, gradoPolinomio), mediaX, sigmaX)\n",
    "XvalidarStacked = np.c_[np.ones((len(Xvalidar), 1)), Xvalidar]\n",
    "theta = np.zeros(gradoPolinomio+1)\n",
    "lRate = 0\n",
    "\n",
    "for i in range(1, m+1):\n",
    "    fmin = minimize(fun=Cost, x0=theta, args=(Xnorm[:i], y[:i], lRate))\n",
    "    errorEntre[i-1] = CalculaError(fmin.x, Xnorm[:i], y[:i])\n",
    "    errorValida[i-1] = CalculaError(fmin.x, XvalidarStacked, yval)\n",
    "\n",
    "plt.figure()\n",
    "plt.plot(range(1, m+1), errorEntre, c=\"purple\")\n",
    "plt.plot(range(1, m+1), errorValida, c=\"orange\")\n",
    "plt.show()"
   ]
  },
  {
   "cell_type": "markdown",
   "metadata": {},
   "source": [
    "# Parte 4: Seleccion del parámetro lambda"
   ]
  },
  {
   "cell_type": "markdown",
   "metadata": {},
   "source": [
    "Ahora el objetivo es ver el mejor valor para la función **minimize**. Antes usabamos el **lRate** pero ahora comprobaremos con distintos valores de lambda para ver cual es el que minimiza el coste. \n",
    "\n",
    "Amarillo: error con ejemplos de entrenamiento.\n",
    "\n",
    "Azul: error con ejemplos de validacion.\n",
    "\n",
    "Fijándonos en la grafica que es el valor de **lambda=3** el que saca un coste mas bajo en los ejemplos de validación."
   ]
  },
  {
   "cell_type": "code",
   "execution_count": 24,
   "metadata": {},
   "outputs": [
    {
     "data": {
      "image/png": "[encoded data removed]",
      "text/plain": [
       "<Figure size 432x288 with 1 Axes>"
      ]
     },
     "metadata": {
      "needs_background": "light"
     },
     "output_type": "display_data"
    }
   ],
   "source": [
    "\n",
    "# PARTE 4 Seleccion de la labmda\n",
    "\n",
    "lambdas = [0, 0.001, 0.003, 0.01, 0.03, 0.1, 0.3, 1, 3, 10]\n",
    "nLambdas = len(lambdas)\n",
    "errorEntre = np.empty(nLambdas)\n",
    "errorValida = np.empty(nLambdas)\n",
    "\n",
    "Xvalidar = normalizar(genPolynomial(Xval, gradoPolinomio), mediaX, sigmaX)\n",
    "XvalidarStacked = np.c_[np.ones((len(Xvalidar), 1)), Xvalidar]\n",
    "theta = np.zeros(gradoPolinomio+1)\n",
    "\n",
    "i = 0\n",
    "for lambo in lambdas:\n",
    "    fmin = minimize(fun=Cost, x0=theta, args=(Xnorm, y, lambo))\n",
    "    errorEntre[i] = CalculaError(fmin.x, Xnorm, y)\n",
    "    errorValida[i] = CalculaError(fmin.x, XvalidarStacked, yval)\n",
    "    i += 1\n",
    "\n",
    "plt.figure()\n",
    "plt.plot(lambdas, errorEntre, c = \"gold\")\n",
    "plt.plot(lambdas, errorValida, c = \"blue\")\n",
    "plt.show()\n",
    "\n"
   ]
  },
  {
   "cell_type": "markdown",
   "metadata": {},
   "source": [
    "# Parte 4.1: Minimizacion del error en funcion del lambda"
   ]
  },
  {
   "cell_type": "markdown",
   "metadata": {},
   "source": [
    "Podremos comprobar el valor de diferentes valores de lambda y como afectan al valor de los errores de la hipotesis pero usando el 3er subconjunto de los ejemplos de entrenamiento, los de **test**. Podemos ver que lambda=3 da un valor de error de 3.572"
   ]
  },
  {
   "cell_type": "code",
   "execution_count": 25,
   "metadata": {},
   "outputs": [
    {
     "name": "stdout",
     "output_type": "stream",
     "text": [
      "El error obtenido con labda 3 es: 3.5720264095176373\n"
     ]
    }
   ],
   "source": [
    "\n",
    "#Parte 5 error para cierta lambda\n",
    "\n",
    "lambo = 3\n",
    "XtestNorm = normalizar(genPolynomial(Xtest, gradoPolinomio), mediaX, sigmaX)\n",
    "XtestStacked = np.c_[np.ones((len(XtestNorm), 1)), XtestNorm]\n",
    "theta = np.zeros(gradoPolinomio+1)\n",
    "\n",
    "fmin = minimize(fun = Cost, x0= theta, args=(Xnorm, y, lambo))\n",
    "errorTest = CalculaError(fmin.x, XtestStacked, ytest)\n",
    "\n",
    "print(\"El error obtenido con labda {} es: {}\".format(lambo , errorTest))\n"
   ]
  }
 ],
 "metadata": {
  "interpreter": {
   "hash": "8c470b164e063736c69efb3b3658dd98a82ef947045411bc63cedc68b64d1003"
  },
  "kernelspec": {
   "display_name": "Python 3.8.5 32-bit",
   "name": "python3"
  },
  "language_info": {
   "codemirror_mode": {
    "name": "ipython",
    "version": 3
   },
   "file_extension": ".py",
   "mimetype": "text/x-python",
   "name": "python",
   "nbconvert_exporter": "python",
   "pygments_lexer": "ipython3",
   "version": "3.8.8"
  },
  "orig_nbformat": 4
 },
 "nbformat": 4,
 "nbformat_minor": 2
}
