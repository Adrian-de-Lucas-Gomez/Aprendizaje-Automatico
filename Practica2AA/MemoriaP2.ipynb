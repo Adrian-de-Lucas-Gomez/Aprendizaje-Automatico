{
 "cells": [
  {
   "cell_type": "markdown",
   "metadata": {},
   "source": [
    "Práctica 2: Regresion Logística"
   ]
  },
  {
   "cell_type": "markdown",
   "metadata": {},
   "source": [
    "Alumnos: Adrián de Lucas Gómez y Andrés Ruiz Bartolomé"
   ]
  },
  {
   "cell_type": "code",
   "execution_count": 1,
   "metadata": {},
   "outputs": [],
   "source": [
    "import numpy as np\n",
    "from numpy.lib import math\n",
    "from pandas.io.parsers import read_csv\n",
    "from matplotlib import pyplot as plt\n",
    "import scipy.optimize as opt\n",
    "from sklearn.preprocessing import PolynomialFeatures"
   ]
  },
  {
   "cell_type": "markdown",
   "metadata": {},
   "source": [
    "1.1- Visualización de los datos"
   ]
  },
  {
   "cell_type": "markdown",
   "metadata": {},
   "source": [
    "Para obtener los datos de los casos de prueba usaremos la funcion read_csv dada por **panda**. Por medio de operaciones sobre el vector original obtenemos el vector de los aprobados y de los suspensos, admitidos y sus respectivamente. Los ponemos en la grafica con **scatter** y cada tipo con un simbolo distinto.\n",
    "\n",
    "Para el calculo de la recta que separe ambos conjuntos deberemos de usar nuestros métodos de coste y gradiente en la función **fmin_tnc** que nos dará la theta optima. Con eso y las notas del examen podemos calcular la recta en el método **pinta_frontera_recta**"
   ]
  },
  {
   "cell_type": "code",
   "execution_count": 13,
   "metadata": {},
   "outputs": [
    {
     "name": "stdout",
     "output_type": "stream",
     "text": [
      "[-25.1613187    0.20623159   0.20147149]\n",
      "porcentaje de casos predichos correctmente 89.0%\n"
     ]
    },
    {
     "data": {
      "image/png": "[encoded data removed]",
      "text/plain": [
       "<Figure size 432x288 with 1 Axes>"
      ]
     },
     "metadata": {
      "needs_background": "light"
     },
     "output_type": "display_data"
    }
   ],
   "source": [
    "def primeraParte():\n",
    "\n",
    "\tvalores = read_csv(\"ex2data1.csv\", header = None).to_numpy()\n",
    "\n",
    "\tadmitidos = np.where(valores[:,2] == 0)\n",
    "\tsus = np.where(valores[:,2] == 1)\n",
    "\tplt.scatter(valores[admitidos,0], valores[admitidos,1], marker='o',c='red')\n",
    "\tplt.scatter(valores[sus,0], valores[sus,1], marker='+',c='blue')\n",
    "\n",
    "\n",
    "\tX = valores[:,:-1]\n",
    "\tY = valores[:,-1]\n",
    "\tm = np.shape(X)[0]\n",
    "\tn = np.shape(X)[1]\n",
    "\tX = np.hstack([np.ones([m, 1]),X])\n",
    "\n",
    "\ttheta = np.zeros(np.shape(X)[1])\n",
    "\n",
    "\tresult = opt.fmin_tnc(func = coste, x0 = theta, fprime = gradiente, args = (X,Y))\n",
    "\ttheta_opt = result[0]\n",
    "\tprint(theta_opt)\n",
    "\n",
    "\tpinta_frontera_recta(X, Y , theta_opt)\n",
    "\n",
    "\tevaluaLogistica(X,Y, theta_opt)\n",
    "\n",
    "\tplt.show()\n",
    "\tplt.close()\n",
    "\n",
    "def pinta_frontera_recta(X, Y, theta):\n",
    "\tx1_min, x1_max = X[:, 1].min(), X[:, 1].max()\n",
    "\tx2_min, x2_max = X[:, 2].min(), X[:, 2].max()\n",
    "\n",
    "\txx1, xx2 = np.meshgrid(np.linspace(x1_min, x1_max),\n",
    "\tnp.linspace(x2_min, x2_max))\n",
    "\n",
    "\th = sigmoide(np.c_[np.ones((xx1.ravel().shape[0], 1)),\n",
    "\txx1.ravel(),\n",
    "\txx2.ravel()].dot(theta))\n",
    "\th = h.reshape(xx1.shape)\n",
    "\n",
    "\t# el cuarto parámetro es el valor de z cuya frontera se\n",
    "\t# quiere pintar\n",
    "\tplt.contour(xx1, xx2, h, [0.5], linewidths=1, colors='green')\n",
    "\t#plt.show()\n",
    "\n",
    "primeraParte()"
   ]
  },
  {
   "cell_type": "markdown",
   "metadata": {},
   "source": [
    "1.2-1.3 Funcion sigmoide, coste y gradiente"
   ]
  },
  {
   "cell_type": "markdown",
   "metadata": {},
   "source": [
    "Estas son las funciones que usamos en el método principal. La funcion sigmoide es la que se encarga de dado un valor determinar si esa nota pertenece a los aprobados o no, es decir , si es 0 o 1. Con esto podemos calcular el coste para cada punto y con ello hacer el gradiente para acabar hallando el theta optimo. Los tres métodos son vectorizados por lo que son mas eficientes."
   ]
  },
  {
   "cell_type": "code",
   "execution_count": 4,
   "metadata": {},
   "outputs": [],
   "source": [
    "def sigmoide(a):\n",
    "\tr = 1 / (1+ np.exp(-a))  \n",
    "\treturn r\n",
    "\n",
    "def coste(theta, X, Y):\n",
    "\n",
    "\tH = sigmoide(np.matmul(X, theta))\n",
    "\n",
    "\tcost = (-1/(len(X))) * (np.dot(Y, np.log(H)) +\n",
    "\t\t\t\t\t\t\tnp.dot((1-Y), np.log(1-H)))\n",
    "\n",
    "\treturn cost\n",
    "\n",
    "def gradiente(theta,XT, Y):\n",
    "\tH = sigmoide(np.matmul(XT, theta))\n",
    "\n",
    "\tgrad = (1/len(Y)) * np.matmul(XT.T, H - Y)\n",
    "\treturn grad"
   ]
  },
  {
   "cell_type": "markdown",
   "metadata": {},
   "source": [
    "1.5- Evaluación de la regresión logística"
   ]
  },
  {
   "cell_type": "markdown",
   "metadata": {},
   "source": [
    "Esta evaluación se encarga de decirnos como de precisa ha sido la predicción sobre los aprobados y suspensos de los casos de prueba teniendop en cuenta los casos en los que no se corresponde la realidad con la predicción dada por la función. Con los casos de prueba daba una precisión del 89%."
   ]
  },
  {
   "cell_type": "code",
   "execution_count": 5,
   "metadata": {},
   "outputs": [],
   "source": [
    "def evaluaLogistica(X,Y,theta):\n",
    "\tb = sigmoide( np.dot(X,theta))>=0.5\n",
    "\tcorrectos = np.sum((sigmoide( np.dot(X,theta))>=0.5)==Y)\n",
    "\tprint(f\"porcentaje de casos predichos correctmente {correctos / np.shape(X)[0] * 100}%\")"
   ]
  },
  {
   "cell_type": "markdown",
   "metadata": {},
   "source": [
    "2.0- Regresión logística regularizada  ------Revisar-------"
   ]
  },
  {
   "cell_type": "markdown",
   "metadata": {},
   "source": [
    "En este segundo apartado se nos presenta la tarea de volver a dividir por una frontera 2 conjuntos distintos. El problema es que no pueden ser separados por una recta, por ello deberemos recorrer a funciones con mayor nuemro de polinomios dando como resultado una curva que separe lo mejor posible los 2 conjuntos.\n",
    "\n",
    "Tras colocar de nuevo los puntos en pantalla deberemos de calcular la theta optima pero esta vez usando versiones regularizadas del coste y el gradiente.\n",
    "\n",
    "Ya con la theta optima y el parametro reguladir lambda podremos dibujar en pantalla la curva que separa de la mejor forma posible esos conjuntos."
   ]
  },
  {
   "cell_type": "code",
   "execution_count": 12,
   "metadata": {},
   "outputs": [
    {
     "name": "stdout",
     "output_type": "stream",
     "text": [
      "None\n"
     ]
    },
    {
     "name": "stderr",
     "output_type": "stream",
     "text": [
      "<ipython-input-7-62ecd1465e7e>:6: RuntimeWarning: divide by zero encountered in log\n",
      "  np.dot((1-Y), np.log(1-H))) +((lambo/2*(len(X))*(theta**2).sum()))\n"
     ]
    },
    {
     "data": {
      "image/png": "[encoded data removed]",
      "text/plain": [
       "<Figure size 432x288 with 1 Axes>"
      ]
     },
     "metadata": {
      "needs_background": "light"
     },
     "output_type": "display_data"
    }
   ],
   "source": [
    "def parte2():\n",
    "\tplt.figure()\n",
    "\tvalores = read_csv(\"ex2data2.csv\", header = None).to_numpy()\n",
    "\n",
    "\tadmitidos = np.where(valores[:,2] == 0)\n",
    "\tsus = np.where(valores[:,2] == 1)\n",
    "\tplt.scatter(valores[admitidos,0], valores[admitidos,1], marker='o',c='red')\n",
    "\tplt.scatter(valores[sus,0], valores[sus,1], marker='+',c='blue')\n",
    "\n",
    "\tX = valores[:,:-1]\n",
    "\tY = valores[:,-1]\n",
    "\tm = np.shape(X)[0]\n",
    "\tn = np.shape(X)[1]\n",
    "\tX = np.hstack([np.ones([m, 1]),X])\n",
    "\ttheta = np.zeros(np.shape(X)[1])\n",
    "\tresult = opt.fmin_tnc(func = coste, x0 = theta, fprime = gradiente, args = (X,Y))\n",
    "\ttheta_opt = result[0]\n",
    "\n",
    "\tpoly = PolynomialFeatures(6)\n",
    "\n",
    "\tlambdita = 1\n",
    "\n",
    "\tprint(costeRegularizado(X,Y,theta,lambdita))\n",
    "\n",
    "\t#plot_decisionboundary(X, Y, theta_opt, poly)\n",
    "\n",
    "\tplt.show()\n",
    "\n",
    "def plot_decisionboundary(X, Y, theta, poly):\n",
    "\tplt.figure()\n",
    "\tx1_min, x1_max = X[:, 0].min(), X[:, 0].max()\n",
    "\tx2_min, x2_max = X[:, 1].min(), X[:, 1].max()\n",
    "\txx1, xx2 = np.meshgrid(np.linspace(x1_min, x1_max),\n",
    "\tnp.linspace(x2_min, x2_max))\n",
    "\th = sigmoide(poly.fit_transform(np.c_[xx1.ravel(),\n",
    "\txx2.ravel()]).dot(theta))\n",
    "\th = h.reshape(xx1.shape)\n",
    "\tplt.contour(xx1, xx2, h, [0.5], linewidths=1, colors='g')\n",
    "\n",
    "parte2()"
   ]
  },
  {
   "cell_type": "markdown",
   "metadata": {},
   "source": [
    "2.2- Cálculo de la función de coste y su gradiente ------Revisar-------"
   ]
  },
  {
   "cell_type": "markdown",
   "metadata": {},
   "source": [
    "La diferencia de esta funcion de coste y gradiente con la no regularizada es el inclusion de las expresiones ((lambda/2*(len(X))*(theta**2).sum())) y (lambda/2*(len(XT)*theta)). El objetivo de esas funciones es el de regularizar el valor de las funciones por medio de lambda el cual podremos modificar para ajustar en mayor o menor medida la curva que separará los conjuntos."
   ]
  },
  {
   "cell_type": "code",
   "execution_count": 7,
   "metadata": {},
   "outputs": [],
   "source": [
    "def costeRegularizado(theta, X, Y, lambo):\n",
    "\n",
    "\tH = sigmoide(np.matmul(X, theta))\n",
    "\n",
    "\tcost = (-1/(len(X))) * (np.dot(Y, np.log(H)) +\n",
    "\t\t\t\t\t\t\tnp.dot((1-Y), np.log(1-H))) +((lambo/2*(len(X))*(theta**2).sum()))\n",
    "                            \n",
    "def gradienteRegularizado(theta,XT, Y, lambo):\n",
    "\tH = sigmoide(np.matmul(XT, theta))\n",
    "\n",
    "\tgrad = (1/len(Y)) * np.matmul(XT.T, H - Y) + (lambo/2*(len(XT)*theta))\n",
    "\treturn grad"
   ]
  }
 ],
 "metadata": {
  "interpreter": {
   "hash": "e2eb791fbaf3f507dd2894e17437c05eb6fe1eb7fcb23344d745a55910894744"
  },
  "kernelspec": {
   "display_name": "Python 3.8.8 64-bit ('base': conda)",
   "name": "python3"
  },
  "language_info": {
   "codemirror_mode": {
    "name": "ipython",
    "version": 3
   },
   "file_extension": ".py",
   "mimetype": "text/x-python",
   "name": "python",
   "nbconvert_exporter": "python",
   "pygments_lexer": "ipython3",
   "version": "3.8.8"
  },
  "orig_nbformat": 4
 },
 "nbformat": 4,
 "nbformat_minor": 2
}
